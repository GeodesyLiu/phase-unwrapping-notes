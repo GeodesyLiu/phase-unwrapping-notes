{
 "metadata": {
  "name": "Phase Unwrapping Notes(3)"
 },
 "nbformat": 3,
 "nbformat_minor": 0,
 "worksheets": [
  {
   "cells": [
    {
     "cell_type": "heading",
     "level": 1,
     "metadata": {},
     "source": [
      "\u76f8\u4f4d\u53bb\u5305\u88f9\u95ee\u9898\u57fa\u672c\u95ee\u9898\u548c\u6982\u5ff5"
     ]
    },
    {
     "cell_type": "heading",
     "level": 2,
     "metadata": {},
     "source": [
      "\u4e24\u79cd\u5e38\u89c1\u95ee\u9898"
     ]
    },
    {
     "cell_type": "heading",
     "level": 3,
     "metadata": {},
     "source": [
      "IFSAR\u2014\u2014\u5e72\u6d89\u5408\u6210\u5b54\u5f84\u96f7\u8fbe"
     ]
    },
    {
     "cell_type": "markdown",
     "metadata": {},
     "source": [
      "\u76f8\u4f4d\u5dee$\\varphi$\u548c\u9ad8\u5ea6$h$\u6709\u7ebf\u6027\u5173\u7cfb\u3002\n",
      "$$\\varphi \\approx \\(\\frac{2\\pi B}{\\lambda D}\\)h.$$\n",
      "\u5176\u4e2d$B$\u4e3a\u4e24\u4e2a\u4f20\u611f\u5668\u95f4\u9694\uff0c$D$\u4e3a\u4f20\u611f\u5668\u5230\u6d4b\u91cf\u70b9\u7684\u8ddd\u79bb\u3002"
     ]
    },
    {
     "cell_type": "heading",
     "level": 3,
     "metadata": {},
     "source": [
      "\u6838\u78c1\u5171\u632f\u2014\u2014\u6cb9\u6c34\u5206\u5272\u95ee\u9898"
     ]
    },
    {
     "cell_type": "markdown",
     "metadata": {},
     "source": [
      "\u901a\u8fc7MRI\u8fc7\u7a0b\u83b7\u5f97\u4fe1\u53f7S\n",
      "\n",
      "$$S = [W + Fexp(j\\Phi)]exp[j(\\theta_0 + \\varphi)]$$\n",
      "\n",
      "\u5176\u4e2dW\u662f\u6c34\u4fe1\u53f7\u7684\u5f3a\u5ea6\uff0cF\u662f\u6cb9\u4fe1\u53f7\u7684\u5f3a\u5ea6\u3002$\\Phi$\u662f\u6c34/\u6cb9\u5316\u5b66\u76f8\u79fb\uff0c$\\theta_0$\u662f\u7ed9\u5b9a\u76f8\u4f4d\u7684\u5e38\u6570\uff0c$\\varphi$\u662f\u78c1\u573a\u975e\u4e00\u81f4\u6027\u4ea7\u751f\u7684\u76f8\u79fb\u3002\n",
      "\u901a\u8fc7\u5bf9$\\Phi$\u8fd0\u7528MRI\u7b97\u5b50\u83b7\u5f97\u4e24\u4e2a\u4fe1\u53f7\uff1a\n",
      "\n",
      "$$s_0 = (W + F)exp(j\\theta_0)$$\n",
      "$$s_1 = (W - F)exp[j(\\theta_0 + \\varphi)]$$\n",
      "\n",
      "\u4e8e\u662f\uff1a\n",
      " \n",
      "$$\\frac{\\overline{s_0}s_1}{s_0\\overline{s_1}} = exp(j2\\varphi)$$\n",
      "\n",
      "\u7528\u56db\u5411\u9650\u53cd\u6b63\u5207\u51fd\u6570\u53ef\u83b7\u5f97\u76f8\u79fb$\\varphi$\u7684\u4f30\u8ba1\u503c$\\phi$.\n",
      "\n",
      "\u901a\u8fc7$\\phi$\u53ef\u5206\u522b\u8ba1\u7b97\u6cb9\u548c\u6c34\u7684\u56fe\u50cf\u3002\n",
      "\n",
      "$$I_0 = \\frac{\\vert s_0 + s_1exp(-j\\phi)\\vert}{2}$$\n",
      "$$I_1 = \\frac{\\vert s_0 - s_1exp(-j\\phi)\\vert}{2}$$"
     ]
    },
    {
     "cell_type": "heading",
     "level": 2,
     "metadata": {},
     "source": [
      "\u963b\u788d"
     ]
    },
    {
     "cell_type": "markdown",
     "metadata": {},
     "source": [
      "- shadow\n",
      "- layover\n",
      "- shear"
     ]
    },
    {
     "cell_type": "heading",
     "level": 2,
     "metadata": {},
     "source": [
      "\u54c1\u8d28\u56fe(quality map)"
     ]
    },
    {
     "cell_type": "markdown",
     "metadata": {},
     "source": [
      "- \u76f8\u5173\u7cfb\u6570\u56fe,\u591a\u89c6\u5e73\u5747\u8ba1\u7b97\uff0c\u9700\u8981\u66f4\u591a\u4fe1\u606f\uff0c\u53ea\u80fd\u5728IFSAR\u8fd9\u79cd\u77e5\u9053\u53cc\u5e72\u6d89\u4fe1\u53f7\u60c5\u51b5\u4e0b\u4f7f\u7528\u3002\u5f53\u76f8\u4f4d\u53d8\u5316\u5927\u65f6(\u6bd4\u5982layover)\u76f8\u5173\u5ea6\u4f4e\u3002\n",
      "    $$z_{m,n} = \\frac{\\sum u_{i,j} \\overline{v_{i,j}}}{\\sqrt{\\sum \\vert u_{i,j}\\vert ^2 \\sum \\vert v_{i,j}\\vert ^2}}$$\n",
      "\n",
      "- \u4f2a\u76f8\u5173\u56fe(pseudocorrelation)\uff0c\u6a21\u62df\u76f8\u5173\u7cfb\u6570\u56fe\n",
      "    $$\\vert z_{m,n}\\vert = \\frac{\\sqrt{(\\sum \\cos \\psi_{i,j})^2 + (\\sum \\sin \\psi_{i,j})^2}}{k^2}$$\n",
      "\n",
      "- \u76f8\u4f4d\u5fae\u5206\u65b9\u5dee(phase derivative variance)\uff0c\u5bf9\u53d8\u5316\u5927\u76f8\u4f4d\u4e0d\u4f1a\u8bef\u5224\u3002\n",
      "    $$z_{m,n} = \\frac{\\sqrt{\\sum (\\Delta^x_{i,j} - \\overline{\\Delta^x_{m,n}})^2} + \\sqrt{\\sum (\\Delta^y_{i,j} - \\overline{\\Delta^y_{m,n}})^2}}{k^2}$$\n",
      "\n",
      "- \u6700\u5927\u76f8\u4f4d\u68af\u5ea6(maximum phase gradient),\u7f3a\u70b9\u540c\u76f8\u5173\u7cfb\u6570\u3002\u7ed9\u5b9a\u50cf\u7d20\u7684\u6700\u5927\u76f8\u4f4d\u68af\u5ea6\u5b9a\u4e49\u4e3a\uff1a\n",
      "    $$\\max[\\max(\\vert \\Delta^x_{i,j}\\vert), \\max(\\vert \\Delta^y_{i,j}\\vert)]$$"
     ]
    },
    {
     "cell_type": "heading",
     "level": 2,
     "metadata": {},
     "source": [
      "\u63a9\u7801\uff08Mask\uff09"
     ]
    },
    {
     "cell_type": "markdown",
     "metadata": {},
     "source": [
      "\u5bf9\u67d0\u79cd\u8d28\u91cf\u56fe\uff0c\u9009\u53d6\u67d0\u4e00\u9608\u503c\uff0c\u4f7f\u4e00\u90e8\u5206\u4fe1\u53f7\u900f\u8fc7\uff0c\u4e00\u90e8\u5206\u4fe1\u53f7\u88ab\u5c4f\u853d\u3002\n",
      "\n",
      "\u81ea\u52a8\u9009\u53d6\u9608\u503c\u7684\u7b97\u6cd5\uff1a\n",
      "\n",
      "1. \u83b7\u53d6\u5206\u5e03\u76f4\u65b9\u56fe\n",
      "2. \u91cd\u65b0\u6620\u5c04\uff1a\u5c06\u7bb1\u6570\u5b9a\u4f4d\u4e00\u767e\uff0c\u5206\u522b\u4ece\u5934\u548c\u4ece\u5c3e\u90e8\u7d2f\u52a0\u5230\u99965%\u548c\u5c3e5%(\u8d85\u8fc750%\u4e0d\u7d2f\u52a0)\n",
      "3. \u53d6\u7b2c\u4e00\u6b21\u589e\u52a0\u503c\u8d85\u8fc70.5%\u7684\u5730\u65b9\u3002\n"
     ]
    },
    {
     "cell_type": "heading",
     "level": 2,
     "metadata": {},
     "source": [
      "\u566a\u97f3\u6ee4\u955c"
     ]
    },
    {
     "cell_type": "markdown",
     "metadata": {},
     "source": [
      "\u6ee4\u955c\u4f5c\u7528\u5728\u4fe1\u53f7\u4e0a\u800c\u975e\u76f8\u4f4d\u4e0a\uff0c\u5982\u679c\u4e0d\u5f97\u4e0d\u4f5c\u7528\u5728\u76f8\u4f4d\u4e0a\uff0c\u8981\u683c\u5916\u5c0f\u5fc3\u3002\n",
      "\n",
      "- \u5747\u503c\u548c\u5377\u79ef\u6ee4\u955c\n",
      "- \u81ea\u9002\u5e94\u6ee4\u955c\uff08\u5982sigma\u6ee4\u955c\uff09\n",
      "- \u4e2d\u503c\u6ee4\u955c"
     ]
    }
   ],
   "metadata": {}
  }
 ]
}