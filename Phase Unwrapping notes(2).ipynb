{
 "metadata": {
  "name": "Phase Unwrapping notes(2)"
 },
 "nbformat": 3,
 "nbformat_minor": 0,
 "worksheets": [
  {
   "cells": [
    {
     "cell_type": "heading",
     "level": 1,
     "metadata": {},
     "source": [
      "Phase Unwrapping notes(2)"
     ]
    },
    {
     "cell_type": "heading",
     "level": 2,
     "metadata": {},
     "source": [
      "\u79ef\u5206\u4e0e\u8def\u5f84\u65e0\u5173\u6761\u4ef6"
     ]
    },
    {
     "cell_type": "markdown",
     "metadata": {},
     "source": [
      "- $\\textbf{F(r)} \\cdot \\textbf{dr} = f dx + gd y$\u662f\u786e\u5b9a\u7684\u5fae\u5206\u5f62\u5f0f\u3002\n",
      "- $\\textbf{F(r)} = \\nabla \\varphi(r)$\uff0c$\\textbf{F}$\u662f\u5355\u503c\u6807\u91cf\u51fd\u6570$\\varphi$\u7684\u68af\u5ea6\u3002\n",
      "- $\\oint \\textbf{F(r)} \\cdot \\textbf{dr}= 0$\uff0c\u533a\u57dfD\u5185\u4efb\u610f\u95ed\u5408\u66f2\u7ebf\u7684\u79ef\u5206\u4e3a0\u3002\n",
      "- $\\nabla \\times \\textbf{F(r)} \\equiv 0$ ,\u6709\u4e14\u4ec5\u6709\u5f53\u51fd\u6570$\\varphi$\u7684\u4ea4\u6362\u4e8c\u9636\u5fae\u5206\u76f8\u7b49\u65f6$\\textbf{F}$\u65cb\u5ea6\u4e3a0\u3002\n",
      "\n",
      "\u7b2c\u4e09\u4e2a\u901a\u5e38\u662f\u6211\u4eec\u8981\u7528\u7684\u3002"
     ]
    },
    {
     "cell_type": "heading",
     "level": 2,
     "metadata": {},
     "source": [
      "\u7559\u6570\u7406\u8bba"
     ]
    },
    {
     "cell_type": "markdown",
     "metadata": {},
     "source": [
      "- \u590d\u51fd\u6570\n",
      "    $$\\oint \\nabla \\varphi(r) \\cdot dr = 2\\pi \\times \\text{sum of residues enclosed by the contour}$$\n",
      "- \u76f8\u4f4d\u53bb\u5305\u88f9\u4e2d\n",
      "    $$\\oint \\nabla \\varphi(r) \\cdot dr = 2\\pi \\times \\text{(sum of enclosed residue charges)}$$"
     ]
    },
    {
     "cell_type": "heading",
     "level": 2,
     "metadata": {},
     "source": [
      "\u970d\u59c6\u8d6b\u5179\u5206\u89e3\uff1a\u65cb\u5ea6\u5206\u91cf\u548c\u65e0\u65cb\u5206\u91cf"
     ]
    },
    {
     "cell_type": "markdown",
     "metadata": {},
     "source": [
      "$$\\textbf{F(r)} = \\textbf F_\\textbf I\\textbf{(r)} + \\textbf F_\\textbf{R}\\textbf{(r)} = \\nabla \\varphi(\\textbf r) + \\nabla \\times \\textbf{A(r)}$$ \n",
      "\n",
      "\u5176\u4e2d\uff0c$\\nabla \\cdot \\textbf F_\\textbf{I}\\textbf{(r)} = \\nabla \\times \\textbf F_\\textbf{R}\\textbf{(r)} = 0$\n",
      "\n",
      "$\\textbf{A(r)}$\u662f$\\textbf{F(r)}$\u6240\u63cf\u7ed8\u7684\u573a\u7684\u77e2\u91cf\u52bf\uff0c$\\varphi(r)$\u662f$\\textbf{F(r)}$\u6240\u63cf\u8ff0\u7684\u573a\u3002\n",
      "\n",
      "\u79ef\u5206$\\int \\textbf{F(r)} dr = \\int \\nabla \\varphi(\\textbf r) dr + \\int \\nabla \\times \\textbf{A(r)} dr$\u4e2d$\\int \\nabla \\varphi(\\textbf r) dr$\u662f$\\psi$\u7684\u65e0\u65cb\u90e8\u5206(\u79ef\u5206\u8def\u5f84\u65e0\u5173)\uff0c$\\int \\nabla \\times \\textbf{A(r)} dr$\u662f$\\psi$\u7684\u65cb\u5ea6\u5206\u91cf(\u79ef\u5206\u4e0e\u8def\u5f84\u6709\u5173)\u3002\n"
     ]
    },
    {
     "cell_type": "heading",
     "level": 2,
     "metadata": {},
     "source": [
      "\u4e8c\u7ef4\u76f8\u4f4d\u5c55\u5f00\u7684\u79bb\u6563\u516c\u5f0f"
     ]
    },
    {
     "cell_type": "markdown",
     "metadata": {},
     "source": [
      "\u5bf9\u5305\u88f9\u76f8\u4f4d$\\psi_{i,j}$\u548c\u5b9e\u9645\u76f8\u4f4d$\\phi_{i,j}$\u6709\uff1a\n",
      "$$\\psi_{i,j} = \\phi_{i,j} + 2k\\pi$$\n",
      "\u5176\u4e2d$-\\pi \\lt \\psi_{i,j} \\leq \\pi, i = 0,\\ldots,M-1, j = 0,\\ldots,N-1$\n",
      "\n",
      "\u76f8\u4f4d\u5dee\u5b9a\u4e49\u4e3a\uff1a(\u7c7b\u4f3c\u68af\u5ea6)\n",
      "\n",
      "$$\\Delta^x_{i,j} = \\mathscr{W} \\\\{\\psi_{i+1,j} - \\psi_{i,j}\\\\}, i = 0,\\ldots,M-2,j = 0,\\ldots,N-1$$\n",
      "\n",
      "$$\\text{\u5426\u5219} \\Delta^x_{i,j} = 0$$\n",
      "\n",
      "$$\\Delta^y_{i,j} = \\mathscr{W} \\\\{\\psi_{i,j+1} - \\psi_{i,j}\\\\}, i = 0,\\ldots,M-1,j = 0,\\ldots,N-2$$\n",
      "\n",
      "$$\\text{\u5426\u5219} \\Delta^y_{i,j} = 0$$"
     ]
    },
    {
     "cell_type": "heading",
     "level": 2,
     "metadata": {},
     "source": [
      "\u5728\u4e8c\u7ef4\u6570\u7ec4\u4e2d\u63a2\u6d4b\u7559\u6570"
     ]
    },
    {
     "cell_type": "markdown",
     "metadata": {},
     "source": [
      "\u5bf9\u7b80\u5355\u76842X2\u6570\u7ec4\uff1a"
     ]
    },
    {
     "cell_type": "code",
     "collapsed": false,
     "input": [
      "plt.figsize(8,8)\n",
      "ax = plt.axes()\n",
      "ax.set_aspect('equal')\n",
      "ax.set_axis_off()\n",
      "plt.xlim((0.1,0.7))\n",
      "plt.ylim((0.1,0.7))\n",
      "plt.text(0.2, 0.6, '0.1', horizontalalignment='right')\n",
      "plt.text(0.4, 0.6, '0.2', horizontalalignment='right')\n",
      "plt.text(0.6, 0.6, '0.3', horizontalalignment='right')\n",
      "plt.text(0.2, 0.4, '-0.1', horizontalalignment='right')\n",
      "plt.text(0.4, 0.4, '-0.2', horizontalalignment='right')\n",
      "plt.text(0.6, 0.4, '-0.4', horizontalalignment='right')\n",
      "plt.text(0.2, 0.2, '-0.2', horizontalalignment='right')\n",
      "plt.text(0.4, 0.2, '-0.2', horizontalalignment='right')\n",
      "plt.text(0.6, 0.2, '-0.3', horizontalalignment='right')\n",
      "plt.arrow(0.2, 0.6, 0, -.16, shape=\"full\", head_width=0.01, head_length=0.05, length_includes_head=True, fc='k', ec='k')\n",
      "plt.arrow(0.36, 0.6, -.16, 0, shape=\"full\", head_width=0.01, head_length=0.05, length_includes_head=True,fc='k', ec='k')\n",
      "plt.arrow(0.2, 0.44, .16, 0, shape=\"full\", head_width=0.01, head_length=0.05, length_includes_head=True, fc='k', ec='k')\n",
      "plt.arrow(0.36, 0.44, 0, .16, shape=\"full\", head_width=0.01, head_length=0.05, length_includes_head=True, fc='k', ec='k')\n",
      "plt.text(0.2, 0.52, '$\\Delta_1$', fontsize=20)\n",
      "plt.text(0.26, 0.45, '$\\Delta_2$', fontsize=20)\n",
      "plt.text(0.36, 0.52, '$\\Delta_3$', horizontalalignment='right', fontsize=20)\n",
      "plt.text(0.26, 0.6, '$\\Delta_4$', verticalalignment='top', fontsize=20)\n"
     ],
     "language": "python",
     "metadata": {},
     "outputs": [
      {
       "output_type": "pyout",
       "prompt_number": 108,
       "text": [
        "<matplotlib.text.Text at 0xe4e74d0>"
       ]
      },
      {
       "output_type": "display_data",
       "png": "[encoded data removed]"
      }
     ],
     "prompt_number": 108
    },
    {
     "cell_type": "markdown",
     "metadata": {},
     "source": [
      "\u8ba1\u7b97$\\sum_{i=1}^4\\Delta_i$\u662f\u5426\u4e3a\u96f6\uff0c\u4e3a\u96f6\u5219\u65e0\u7559\u6570\uff0c\u5426\u5219\u6b64\u533a\u57df\u5185\u6709\u7559\u6570\u3002"
     ]
    }
   ],
   "metadata": {}
  }
 ]
}