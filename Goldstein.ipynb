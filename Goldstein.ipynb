{
 "metadata": {
  "name": "Goldstein"
 },
 "nbformat": 3,
 "nbformat_minor": 0,
 "worksheets": [
  {
   "cells": [
    {
     "cell_type": "code",
     "collapsed": false,
     "input": [
      "from util import *\n"
     ],
     "language": "python",
     "metadata": {},
     "outputs": [],
     "prompt_number": 1
    },
    {
     "cell_type": "heading",
     "level": 1,
     "metadata": {},
     "source": [
      "Goldstein\u7b97\u6cd5"
     ]
    },
    {
     "cell_type": "code",
     "collapsed": false,
     "input": [
      "pos_residue = 1\n",
      "neg_residue = 2\n",
      "branch_cut = 4\n",
      "image_border = 8\n",
      "balanced_residue = 16\n",
      "active_residue = 32\n",
      "unwrapped_residue = 64\n",
      "# \u786e\u5b9a\u7559\u6570\n",
      "def residue(Z, R):\n",
      "    for i in range(Z.shape[0] - 1):\n",
      "        for j in range(Z.shape[1] - 1):\n",
      "            s = \\\n",
      "            wrap(Z[i,j + 1] - Z[i, j]) + \\\n",
      "            wrap(Z[i + 1,j + 1] - Z[i, j + 1]) + \\\n",
      "            wrap(Z[i + 1,j] - Z[i + 1, j + 1]) + \\\n",
      "            wrap(Z[i,j] - Z[i + 1, j])\n",
      "            if (np.abs(s - 2*pi) < 1e-8):\n",
      "                R[i,j] &= pos_residue\n",
      "            elif (np.abs(s + 2*pi) < 1e-8):\n",
      "                R[i,j] &= neg_residue\n",
      "    return R        \n",
      "\n",
      "\n",
      "def add_branch_cut(R, a, b, c, d):\n",
      "    # residue locates at upper-left corner of 4-square\n",
      "    if (c > a) and (a > 0):\n",
      "        a += 1\n",
      "    elif (c < a) and (c > 0):\n",
      "        c += 1\n",
      "    if (d > b) and (b > 0):\n",
      "        b += 1\n",
      "    elif (d < b) and (d > 0):\n",
      "        d += 1\n",
      "    \n",
      "    if (a == c) and (b == d):\n",
      "        R[a,b] &= branch_cut\n",
      "        return R;\n",
      "    \n",
      "    m = np.abs(a - c)\n",
      "    n = np.abs(b - d)\n",
      "    if m > n:\n",
      "        k = float(n / m)\n",
      "        istep = np.sign(c - a) \n",
      "        for i in np.range(a, c, istep):\n",
      "            j = b + k * (i - a) \n",
      "            R[i,j] &= branch_cut\n",
      "    else:\n",
      "        k = float(m / n)\n",
      "        istep = np.sign(c - a) \n",
      "        for i in np.range(a, c, istep):\n",
      "            j = a + k * (i - b) \n",
      "            R[i,j] &= branch_cut\n",
      "    return R\n",
      "\n",
      "def generate_brach_cut(R):\n",
      "    for i in range(R.shape[0]):\n",
      "        for j in range(R.shape[1]):\n",
      "            if R[i,j] & unbalanced and (R[i,j] & pos_residue or R[i,j] & neg_residue):\n",
      "                R[i,j] &= active_residue\n",
      "                if R[i,j] & pos_residue:\n",
      "                    charge = 1\n",
      "                elif:\n",
      "                    charge = -1\n",
      "                for w in range(3, 100, 2):\n",
      "                    for x in range(i - x, i + x):\n",
      "                        for y in range(j - y, j + y):\n",
      "                            if R[x,y] & image_border:\n",
      "                                charge = 0\n",
      "                                R = add_branch_cut(R, i, j, x, y)\n",
      "                            elif !(R[x,y] & active_residue):\n",
      "                                if !(R[x ,y] & balanced_residue):\n",
      "                                    if R[x, y] & pos_residue:\n",
      "                                        charge += 1\n",
      "                                    else:\n",
      "                                        charge -= 1\n",
      "                                R[x,y] &= active_residue\n",
      "                                R = add_branch_cut(R, i, j, x, y)\n",
      "                            if (charge == 0):\n",
      "                                break\n",
      "                                break\n",
      "                                break\n",
      "                if charge != 0:\n",
      "                    R = R["
     ],
     "language": "python",
     "metadata": {},
     "outputs": [],
     "prompt_number": 19
    },
    {
     "cell_type": "code",
     "collapsed": false,
     "input": [],
     "language": "python",
     "metadata": {},
     "outputs": [
      {
       "output_type": "pyout",
       "prompt_number": 21,
       "text": [
        "2"
       ]
      }
     ],
     "prompt_number": 21
    },
    {
     "cell_type": "code",
     "collapsed": false,
     "input": [
      "\n",
      "Z = noisy_test_data(200)\n",
      "Z_origin = Z.copy()\n",
      "Z = wrap(Z)\n",
      "\n",
      "R = np.zeros(Z.shape, dtype=np.int8)\n",
      "R = residue(Z, R)\n"
     ],
     "language": "python",
     "metadata": {},
     "outputs": [],
     "prompt_number": 10
    },
    {
     "cell_type": "code",
     "collapsed": false,
     "input": [],
     "language": "python",
     "metadata": {},
     "outputs": [],
     "prompt_number": 3
    },
    {
     "cell_type": "code",
     "collapsed": false,
     "input": [],
     "language": "python",
     "metadata": {},
     "outputs": []
    }
   ],
   "metadata": {}
  }
 ]
}